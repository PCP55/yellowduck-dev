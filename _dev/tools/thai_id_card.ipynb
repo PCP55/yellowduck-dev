{
 "cells": [
  {
   "cell_type": "code",
   "execution_count": null,
   "metadata": {},
   "outputs": [],
   "source": [
    "\"\"\"Thai National ID Card Validation\r\n",
    "\r\n",
    "Usage:\r\n",
    "\r\n",
    "```\r\n",
    "from yellowduck.tools.thai_id_card import ThaiIDCardValidate\r\n",
    "\r\n",
    "result = ThaiIDCardValidate().validate_id('1-2344-56789-57-3')\r\n",
    "```\r\n",
    "Arguments:\r\n",
    "    text: python string.\r\n",
    "Returns:\r\n",
    "    13 digits string (Passed) or -1 (Failed).\r\n",
    "\r\n",
    "Reference:\r\n",
    "https://adamblog.co/google-sheet-thai-id-checker-function/#:~:text=%E0%B8%95%E0%B8%B1%E0%B8%A7%E0%B9%80%E0%B8%A5%E0%B8%82%E0%B8%9A%E0%B8%99%E0%B8%9A%E0%B8%B1%E0%B8%95%E0%B8%A3%E0%B8%9B%E0%B8%A3%E0%B8%B0%E0%B8%8A%E0%B8%B2%E0%B8%8A%E0%B8%99%E0%B8%A1%E0%B8%B5,%E0%B8%95%E0%B8%A3%E0%B8%87%E0%B8%81%E0%B8%B1%E0%B8%99%E0%B9%81%E0%B8%AA%E0%B8%94%E0%B8%87%E0%B8%A7%E0%B9%88%E0%B8%B2%E0%B8%96%E0%B8%B9%E0%B8%81%E0%B8%95%E0%B9%89%E0%B8%AD%E0%B8%87\r\n",
    "\"\"\""
   ]
  },
  {
   "cell_type": "code",
   "execution_count": 27,
   "metadata": {},
   "outputs": [],
   "source": [
    "import re\r\n",
    "\r\n",
    "class ThaiIDCardValidate():\r\n",
    "    def __init__(self, nationality = 'th'):\r\n",
    "        self.nationality = nationality\r\n",
    "\r\n",
    "    def validate_id(self, id_card: str):\r\n",
    "        result = -1\r\n",
    "        if self.nationality == 'th':\r\n",
    "            regexp = r\"[0-9]+\"\r\n",
    "            id_card = ''.join(re.findall(regexp, id_card))\r\n",
    "            if len(id_card) == 13:\r\n",
    "                val = 0\r\n",
    "                digit_pos = 13\r\n",
    "                check_digit = id_card[-1]\r\n",
    "                for digit in id_card[:-1]:\r\n",
    "                    val = val + (int(digit) * digit_pos)\r\n",
    "                    digit_pos = digit_pos - 1\r\n",
    "                mod = val%11\r\n",
    "                val = 11 - mod\r\n",
    "                val = str(val)[-1]\r\n",
    "                if val == check_digit:\r\n",
    "                    result = id_card\r\n",
    "        return result"
   ]
  },
  {
   "cell_type": "code",
   "execution_count": 35,
   "metadata": {},
   "outputs": [
    {
     "data": {
      "text/plain": "'1234567890121'"
     },
     "execution_count": 35,
     "metadata": {},
     "output_type": "execute_result"
    }
   ],
   "source": [
    "# Case: Passed\r\n",
    "\r\n",
    "ThaiIDCardValidate().validate_id('1-2345-67890-12-1')"
   ]
  },
  {
   "cell_type": "code",
   "execution_count": 36,
   "metadata": {},
   "outputs": [
    {
     "data": {
      "text/plain": "'1234567890121'"
     },
     "execution_count": 36,
     "metadata": {},
     "output_type": "execute_result"
    }
   ],
   "source": [
    "# Case: Passed\r\n",
    "\r\n",
    "ThaiIDCardValidate().validate_id('1234567890121')"
   ]
  },
  {
   "cell_type": "code",
   "execution_count": null,
   "metadata": {},
   "outputs": [],
   "source": [
    "# Case: Failed\r\n",
    "\r\n",
    "ThaiIDCardValidate().validate_id('1-2345-67890-12-2')"
   ]
  }
 ],
 "metadata": {
  "interpreter": {
   "hash": "da49c21476726fa775a64ec0361702411f3a2972dcf1da4aea634512a0edea27"
  },
  "kernelspec": {
   "display_name": "Python 3.8.5 64-bit ('base': conda)",
   "name": "python3"
  },
  "language_info": {
   "codemirror_mode": {
    "name": "ipython",
    "version": 3
   },
   "file_extension": ".py",
   "mimetype": "text/x-python",
   "name": "python",
   "nbconvert_exporter": "python",
   "pygments_lexer": "ipython3",
   "version": "3.8.5"
  },
  "orig_nbformat": 2
 },
 "nbformat": 4,
 "nbformat_minor": 2
}