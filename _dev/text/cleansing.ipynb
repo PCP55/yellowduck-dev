{
 "cells": [
  {
   "cell_type": "markdown",
   "metadata": {},
   "source": [
    "# Function"
   ]
  },
  {
   "cell_type": "code",
   "execution_count": null,
   "metadata": {},
   "outputs": [],
   "source": [
    "\"\"\"Text cleansing function which are used very frequently.\r\n",
    "\r\n",
    "Usage:\r\n",
    "\r\n",
    "```\r\n",
    "from yellowduck.preprocessing.text import TextCleansing\r\n",
    "\r\n",
    "Using all function\r\n",
    "text = yellowduck.preprocessing.text.TextCleansing.pipeline(my_text)\r\n",
    "\r\n",
    "-Individual-\r\n",
    "text = TextCleansing.http_https(text)\r\n",
    "text = TextCleansing.new_line(text)\r\n",
    "text = TextCleansing.tab_space(text)\r\n",
    "text = TextCleansing.hashtag(text)\r\n",
    "text = TextCleansing.punctuation(text)\r\n",
    "text = TextCleansing.emoji(text)\r\n",
    "text = TextCleansing.redundant_space(text)\r\n",
    "```\r\n",
    "Arguments:\r\n",
    "    text: python string.\r\n",
    "Returns:\r\n",
    "    A python string.\r\n",
    "\"\"\""
   ]
  },
  {
   "cell_type": "code",
   "execution_count": 152,
   "metadata": {},
   "outputs": [],
   "source": [
    "import re\r\n",
    "\r\n",
    "class TextCleansing():\r\n",
    "    def http_https(text: str) -> str:\r\n",
    "        text = re.sub(r'https\\S+', '', str(text))\r\n",
    "        text = re.sub(r'http\\S+', '', str(text))\r\n",
    "        return text\r\n",
    "\r\n",
    "    # Remove new line (\\n) and tab space (\\t)\r\n",
    "    def new_line(text: str) -> str:\r\n",
    "        text = str(text).replace('\\n',' ')\r\n",
    "        return text\r\n",
    "\r\n",
    "    def tab_space(text: str) -> str:\r\n",
    "        text = str(text).replace('\\t',' ')\r\n",
    "        return text\r\n",
    "\r\n",
    "    # Remove hashtag and line@ id\r\n",
    "    def hashtag(text: str) -> str:\r\n",
    "        text = re.sub(r'#[A-Za-z0-9ก-๙]+', ' ', str(text))\r\n",
    "        text = re.sub(r'@[A-Za-z0-9ก-๙]+', ' ', str(text))\r\n",
    "        return text\r\n",
    "\r\n",
    "    # Clean Symbol\r\n",
    "    def punctuation(text:str, except_punct:list=[]) -> str:\r\n",
    "        puncts = [',', '\"', ':', ')', '(', '-', '!', '?', '|', ';', \"'\", '$', '&', '[', ']', '>', '%', '=', '#', '*', '+', '\\\\', '•',  '~', '@', '£',\r\n",
    "            '·', '_', '{', '}', '©', '^', '®', '`',  '<', '→', '°', '€', '™', '›',  '♥', '←', '×', '§', '″', '′', 'Â', '█', '½', 'à', '…', '\\xa0', '\\t',\r\n",
    "            '“', '★', '”', '–', '●', 'â', '►', '−', '¢', '²', '¬', '░', '¶', '↑', '±', '¿', '▾', '═', '¦', '║', '―', '¥', '▓', '—', '‹', '─', '\\u3000', '\\u202f',\r\n",
    "            '▒', '：', '¼', '⊕', '▼', '▪', '†', '■', '’', '▀', '¨', '▄', '♫', '☆', 'é', '¯', '♦', '¤', '▲', 'è', '¸', '¾', 'Ã', '⋅', '‘', '∞', '«',\r\n",
    "            '∙', '）', '↓', '、', '│', '（', '»', '，', '♪', '╩', '╚', '³', '・', '╦', '╣', '╔', '╗', '▬', '❤', 'ï', 'Ø', '¹', '≤', '‡', '√', '•', '!']\r\n",
    "\r\n",
    "        final_puncts = [ele for ele in puncts if ele not in except_punct]\r\n",
    "\r\n",
    "        for punct in final_puncts:\r\n",
    "            text = text.replace(punct,' ')\r\n",
    "        return text\r\n",
    "\r\n",
    "    # Remove emoji\r\n",
    "    def emoji(text) -> str:\r\n",
    "        emoj = re.compile(\"[\"\r\n",
    "            u\"\\U0001F600-\\U0001F64F\"  # emoticons\r\n",
    "            u\"\\U0001F300-\\U0001F5FF\"  # symbols & pictographs\r\n",
    "            u\"\\U0001F680-\\U0001F6FF\"  # transport & map symbols\r\n",
    "            u\"\\U0001F1E0-\\U0001F1FF\"  # flags (iOS)\r\n",
    "            u\"\\U00002500-\\U00002BEF\"  # chinese char\r\n",
    "            u\"\\U00002702-\\U000027B0\"\r\n",
    "            u\"\\U00002702-\\U000027B0\"\r\n",
    "            u\"\\U000024C2-\\U0001F251\"\r\n",
    "            u\"\\U0001f926-\\U0001f937\"\r\n",
    "            u\"\\U00010000-\\U0010ffff\"\r\n",
    "            u\"\\u2640-\\u2642\" \r\n",
    "            u\"\\u2600-\\u2B55\"\r\n",
    "            u\"\\u200d\"\r\n",
    "            u\"\\u23cf\"\r\n",
    "            u\"\\u23e9\"\r\n",
    "            u\"\\u231a\"\r\n",
    "            u\"\\ufe0f\"  # dingbats\r\n",
    "            u\"\\u3030\"\r\n",
    "                        \"]+\", re.UNICODE)\r\n",
    "        return re.sub(emoj, ' ', text)\r\n",
    "\r\n",
    "    def redundant_space(text) -> str:\r\n",
    "        return ' '.join(text.split())"
   ]
  },
  {
   "cell_type": "markdown",
   "metadata": {},
   "source": [
    "# Test Function"
   ]
  },
  {
   "cell_type": "code",
   "execution_count": 153,
   "metadata": {},
   "outputs": [
    {
     "name": "stdout",
     "output_type": "stream",
     "text": [
      "ร้าน\n",
      "\n",
      "\n",
      "\n",
      "\n",
      "\n",
      "   #ของมันต้องมี   \t2.เราจะประกาศผลผู้โชคดีภายใน 30 กันยายน นี้ (โดยการ inbox กลับไป)\n",
      "      3.ใช้ได้ทั้งมากินที่ร้านหรือให้ไปส่งที่บ้านก็ได้ (ไม่รวมค่าส่ง)      **ร้านเปิด 11.00-23.00 (ครัวปิด 22.00)**   \n",
      "---------------------------------------------------------   \n",
      "สำหรับ Delivery \n",
      "\t👇วิธีการสั่ง👇   📱สั่งผ่าน Lineman ได้เลยนะครับ หาคำว่า \"คนมันกุ้ง\" ง่ายๆอิ่มอร่อยสบายอยุ่บ้านได้เลยจ้า    หรือจะโทร ไลน์ ผ่านให้ทางร้านจัดการให้ก็ได้ครับ ** รับออเดอร์ 11.00 - 22.00 เท่านั้นนะครับ **   \n",
      "---------------------------------------------------------   \n",
      "🦐 Follow us 🦐   Line :     Facebook : konmunkung   โทร : 064 414 7844      แผนที่ร้าน : ร้านอยู่ในโครงการ Tree square ทาวน์ อิน ทาวน์   📌📌https://goo.gl/maps/DXTAh5Z4jds                 \n"
     ]
    }
   ],
   "source": [
    "my_text = 'ร้าน\\n\\n\\n\\n\\n\\n   #ของมันต้องมี   \\t2.เราจะประกาศผลผู้โชคดีภายใน 30 กันยายน นี้ (โดยการ inbox กลับไป)\\n      3.ใช้ได้ทั้งมากินที่ร้านหรือให้ไปส่งที่บ้านก็ได้ (ไม่รวมค่าส่ง)      **ร้านเปิด 11.00-23.00 (ครัวปิด 22.00)**   \\n---------------------------------------------------------   \\nสำหรับ Delivery \\n\\t👇วิธีการสั่ง👇   📱สั่งผ่าน Lineman ได้เลยนะครับ หาคำว่า \"คนมันกุ้ง\" ง่ายๆอิ่มอร่อยสบายอยุ่บ้านได้เลยจ้า    หรือจะโทร ไลน์ ผ่านให้ทางร้านจัดการให้ก็ได้ครับ ** รับออเดอร์ 11.00 - 22.00 เท่านั้นนะครับ **   \\n---------------------------------------------------------   \\n🦐 Follow us 🦐   Line :     Facebook : konmunkung   โทร : 064 414 7844      แผนที่ร้าน : ร้านอยู่ในโครงการ Tree square ทาวน์ อิน ทาวน์   📌📌https://goo.gl/maps/DXTAh5Z4jds                 '\r\n",
    "\r\n",
    "print(my_text)"
   ]
  },
  {
   "cell_type": "code",
   "execution_count": 154,
   "metadata": {},
   "outputs": [
    {
     "data": {
      "text/plain": "'ร้าน\\n\\n\\n\\n\\n\\n   #ของมันต้องมี   \\t2.เราจะประกาศผลผู้โชคดีภายใน 30 กันยายน นี้ (โดยการ inbox กลับไป)\\n      3.ใช้ได้ทั้งมากินที่ร้านหรือให้ไปส่งที่บ้านก็ได้ (ไม่รวมค่าส่ง)      **ร้านเปิด 11.00-23.00 (ครัวปิด 22.00)**   \\n---------------------------------------------------------   \\nสำหรับ Delivery \\n\\t👇วิธีการสั่ง👇   📱สั่งผ่าน Lineman ได้เลยนะครับ หาคำว่า \"คนมันกุ้ง\" ง่ายๆอิ่มอร่อยสบายอยุ่บ้านได้เลยจ้า    หรือจะโทร ไลน์ ผ่านให้ทางร้านจัดการให้ก็ได้ครับ ** รับออเดอร์ 11.00 - 22.00 เท่านั้นนะครับ **   \\n---------------------------------------------------------   \\n🦐 Follow us 🦐   Line :     Facebook : konmunkung   โทร : 064 414 7844      แผนที่ร้าน : ร้านอยู่ในโครงการ Tree square ทาวน์ อิน ทาวน์   📌📌https://goo.gl/maps/DXTAh5Z4jds                 '"
     },
     "execution_count": 154,
     "metadata": {},
     "output_type": "execute_result"
    }
   ],
   "source": [
    "my_text"
   ]
  },
  {
   "cell_type": "code",
   "execution_count": 155,
   "metadata": {},
   "outputs": [
    {
     "data": {
      "text/plain": "'ร้าน\\n\\n\\n\\n\\n\\n   #ของมันต้องมี   \\t2.เราจะประกาศผลผู้โชคดีภายใน 30 กันยายน นี้ (โดยการ inbox กลับไป)\\n      3.ใช้ได้ทั้งมากินที่ร้านหรือให้ไปส่งที่บ้านก็ได้ (ไม่รวมค่าส่ง)      **ร้านเปิด 11.00-23.00 (ครัวปิด 22.00)**   \\n---------------------------------------------------------   \\nสำหรับ Delivery \\n\\t👇วิธีการสั่ง👇   📱สั่งผ่าน Lineman ได้เลยนะครับ หาคำว่า \"คนมันกุ้ง\" ง่ายๆอิ่มอร่อยสบายอยุ่บ้านได้เลยจ้า    หรือจะโทร ไลน์ ผ่านให้ทางร้านจัดการให้ก็ได้ครับ ** รับออเดอร์ 11.00 - 22.00 เท่านั้นนะครับ **   \\n---------------------------------------------------------   \\n🦐 Follow us 🦐   Line :     Facebook : konmunkung   โทร : 064 414 7844      แผนที่ร้าน : ร้านอยู่ในโครงการ Tree square ทาวน์ อิน ทาวน์   📌📌                 '"
     },
     "execution_count": 155,
     "metadata": {},
     "output_type": "execute_result"
    }
   ],
   "source": [
    "TextCleansing.http_https(my_text)"
   ]
  },
  {
   "cell_type": "code",
   "execution_count": 156,
   "metadata": {},
   "outputs": [
    {
     "data": {
      "text/plain": "'ร้าน         #ของมันต้องมี   \\t2.เราจะประกาศผลผู้โชคดีภายใน 30 กันยายน นี้ (โดยการ inbox กลับไป)       3.ใช้ได้ทั้งมากินที่ร้านหรือให้ไปส่งที่บ้านก็ได้ (ไม่รวมค่าส่ง)      **ร้านเปิด 11.00-23.00 (ครัวปิด 22.00)**    ---------------------------------------------------------    สำหรับ Delivery  \\t👇วิธีการสั่ง👇   📱สั่งผ่าน Lineman ได้เลยนะครับ หาคำว่า \"คนมันกุ้ง\" ง่ายๆอิ่มอร่อยสบายอยุ่บ้านได้เลยจ้า    หรือจะโทร ไลน์ ผ่านให้ทางร้านจัดการให้ก็ได้ครับ ** รับออเดอร์ 11.00 - 22.00 เท่านั้นนะครับ **    ---------------------------------------------------------    🦐 Follow us 🦐   Line :     Facebook : konmunkung   โทร : 064 414 7844      แผนที่ร้าน : ร้านอยู่ในโครงการ Tree square ทาวน์ อิน ทาวน์   📌📌https://goo.gl/maps/DXTAh5Z4jds                 '"
     },
     "execution_count": 156,
     "metadata": {},
     "output_type": "execute_result"
    }
   ],
   "source": [
    "TextCleansing.new_line(my_text)"
   ]
  },
  {
   "cell_type": "code",
   "execution_count": 157,
   "metadata": {},
   "outputs": [
    {
     "data": {
      "text/plain": "'ร้าน         #ของมันต้องมี   \\t2.เราจะประกาศผลผู้โชคดีภายใน 30 กันยายน นี้ (โดยการ inbox กลับไป)       3.ใช้ได้ทั้งมากินที่ร้านหรือให้ไปส่งที่บ้านก็ได้ (ไม่รวมค่าส่ง)      **ร้านเปิด 11.00-23.00 (ครัวปิด 22.00)**    ---------------------------------------------------------    สำหรับ Delivery  \\t👇วิธีการสั่ง👇   📱สั่งผ่าน Lineman ได้เลยนะครับ หาคำว่า \"คนมันกุ้ง\" ง่ายๆอิ่มอร่อยสบายอยุ่บ้านได้เลยจ้า    หรือจะโทร ไลน์ ผ่านให้ทางร้านจัดการให้ก็ได้ครับ ** รับออเดอร์ 11.00 - 22.00 เท่านั้นนะครับ **    ---------------------------------------------------------    🦐 Follow us 🦐   Line :     Facebook : konmunkung   โทร : 064 414 7844      แผนที่ร้าน : ร้านอยู่ในโครงการ Tree square ทาวน์ อิน ทาวน์   📌📌https://goo.gl/maps/DXTAh5Z4jds                 '"
     },
     "execution_count": 157,
     "metadata": {},
     "output_type": "execute_result"
    }
   ],
   "source": [
    "TextCleansing.new_line(my_text)"
   ]
  },
  {
   "cell_type": "code",
   "execution_count": 158,
   "metadata": {},
   "outputs": [
    {
     "data": {
      "text/plain": "'ร้าน\\n\\n\\n\\n\\n\\n   #ของมันต้องมี    2.เราจะประกาศผลผู้โชคดีภายใน 30 กันยายน นี้ (โดยการ inbox กลับไป)\\n      3.ใช้ได้ทั้งมากินที่ร้านหรือให้ไปส่งที่บ้านก็ได้ (ไม่รวมค่าส่ง)      **ร้านเปิด 11.00-23.00 (ครัวปิด 22.00)**   \\n---------------------------------------------------------   \\nสำหรับ Delivery \\n 👇วิธีการสั่ง👇   📱สั่งผ่าน Lineman ได้เลยนะครับ หาคำว่า \"คนมันกุ้ง\" ง่ายๆอิ่มอร่อยสบายอยุ่บ้านได้เลยจ้า    หรือจะโทร ไลน์ ผ่านให้ทางร้านจัดการให้ก็ได้ครับ ** รับออเดอร์ 11.00 - 22.00 เท่านั้นนะครับ **   \\n---------------------------------------------------------   \\n🦐 Follow us 🦐   Line :     Facebook : konmunkung   โทร : 064 414 7844      แผนที่ร้าน : ร้านอยู่ในโครงการ Tree square ทาวน์ อิน ทาวน์   📌📌https://goo.gl/maps/DXTAh5Z4jds                 '"
     },
     "execution_count": 158,
     "metadata": {},
     "output_type": "execute_result"
    }
   ],
   "source": [
    "TextCleansing.tab_space(my_text)"
   ]
  },
  {
   "cell_type": "code",
   "execution_count": 159,
   "metadata": {},
   "outputs": [
    {
     "data": {
      "text/plain": "'ร้าน\\n\\n\\n\\n\\n\\n       \\t2.เราจะประกาศผลผู้โชคดีภายใน 30 กันยายน นี้ (โดยการ inbox กลับไป)\\n      3.ใช้ได้ทั้งมากินที่ร้านหรือให้ไปส่งที่บ้านก็ได้ (ไม่รวมค่าส่ง)      **ร้านเปิด 11.00-23.00 (ครัวปิด 22.00)**   \\n---------------------------------------------------------   \\nสำหรับ Delivery \\n\\t👇วิธีการสั่ง👇   📱สั่งผ่าน Lineman ได้เลยนะครับ หาคำว่า \"คนมันกุ้ง\" ง่ายๆอิ่มอร่อยสบายอยุ่บ้านได้เลยจ้า    หรือจะโทร ไลน์ ผ่านให้ทางร้านจัดการให้ก็ได้ครับ ** รับออเดอร์ 11.00 - 22.00 เท่านั้นนะครับ **   \\n---------------------------------------------------------   \\n🦐 Follow us 🦐   Line :     Facebook : konmunkung   โทร : 064 414 7844      แผนที่ร้าน : ร้านอยู่ในโครงการ Tree square ทาวน์ อิน ทาวน์   📌📌https://goo.gl/maps/DXTAh5Z4jds                 '"
     },
     "execution_count": 159,
     "metadata": {},
     "output_type": "execute_result"
    }
   ],
   "source": [
    "TextCleansing.hashtag(my_text)"
   ]
  },
  {
   "cell_type": "code",
   "execution_count": 160,
   "metadata": {},
   "outputs": [
    {
     "data": {
      "text/plain": "'ร้าน\\n\\n\\n\\n\\n\\n    ของมันต้องมี    2.เราจะประกาศผลผู้โชคดีภายใน 30 กันยายน นี้ (โดยการ inbox กลับไป \\n      3.ใช้ได้ทั้งมากินที่ร้านหรือให้ไปส่งที่บ้านก็ได้ (ไม่รวมค่าส่ง         ร้านเปิด 11.00 23.00 (ครัวปิด 22.00      \\n                                                            \\nสำหรับ Delivery \\n 👇วิธีการสั่ง👇   📱สั่งผ่าน Lineman ได้เลยนะครับ หาคำว่า  คนมันกุ้ง  ง่ายๆอิ่มอร่อยสบายอยุ่บ้านได้เลยจ้า    หรือจะโทร ไลน์ ผ่านให้ทางร้านจัดการให้ก็ได้ครับ    รับออเดอร์ 11.00   22.00 เท่านั้นนะครับ      \\n                                                            \\n🦐 Follow us 🦐   Line       Facebook   konmunkung   โทร   064 414 7844      แผนที่ร้าน   ร้านอยู่ในโครงการ Tree square ทาวน์ อิน ทาวน์   📌📌https //goo.gl/maps/DXTAh5Z4jds                 '"
     },
     "execution_count": 160,
     "metadata": {},
     "output_type": "execute_result"
    }
   ],
   "source": [
    "TextCleansing.punctuation(my_text, except_punct=['('])"
   ]
  },
  {
   "cell_type": "code",
   "execution_count": 161,
   "metadata": {},
   "outputs": [
    {
     "data": {
      "text/plain": "'ร้าน\\n\\n\\n\\n\\n\\n   #ของมันต้องมี   \\t2.เราจะประกาศผลผู้โชคดีภายใน 30 กันยายน นี้ (โดยการ inbox กลับไป)\\n      3.ใช้ได้ทั้งมากินที่ร้านหรือให้ไปส่งที่บ้านก็ได้ (ไม่รวมค่าส่ง)      **ร้านเปิด 11.00-23.00 (ครัวปิด 22.00)**   \\n---------------------------------------------------------   \\nสำหรับ Delivery \\n\\t วิธีการสั่ง     สั่งผ่าน Lineman ได้เลยนะครับ หาคำว่า \"คนมันกุ้ง\" ง่ายๆอิ่มอร่อยสบายอยุ่บ้านได้เลยจ้า    หรือจะโทร ไลน์ ผ่านให้ทางร้านจัดการให้ก็ได้ครับ ** รับออเดอร์ 11.00 - 22.00 เท่านั้นนะครับ **   \\n---------------------------------------------------------   \\n  Follow us     Line :     Facebook : konmunkung   โทร : 064 414 7844      แผนที่ร้าน : ร้านอยู่ในโครงการ Tree square ทาวน์ อิน ทาวน์    https://goo.gl/maps/DXTAh5Z4jds                 '"
     },
     "execution_count": 161,
     "metadata": {},
     "output_type": "execute_result"
    }
   ],
   "source": [
    "TextCleansing.emoji(my_text)"
   ]
  },
  {
   "cell_type": "code",
   "execution_count": 162,
   "metadata": {},
   "outputs": [
    {
     "data": {
      "text/plain": "'ร้าน #ของมันต้องมี 2.เราจะประกาศผลผู้โชคดีภายใน 30 กันยายน นี้ (โดยการ inbox กลับไป) 3.ใช้ได้ทั้งมากินที่ร้านหรือให้ไปส่งที่บ้านก็ได้ (ไม่รวมค่าส่ง) **ร้านเปิด 11.00-23.00 (ครัวปิด 22.00)** --------------------------------------------------------- สำหรับ Delivery 👇วิธีการสั่ง👇 📱สั่งผ่าน Lineman ได้เลยนะครับ หาคำว่า \"คนมันกุ้ง\" ง่ายๆอิ่มอร่อยสบายอยุ่บ้านได้เลยจ้า หรือจะโทร ไลน์ ผ่านให้ทางร้านจัดการให้ก็ได้ครับ ** รับออเดอร์ 11.00 - 22.00 เท่านั้นนะครับ ** --------------------------------------------------------- 🦐 Follow us 🦐 Line : Facebook : konmunkung โทร : 064 414 7844 แผนที่ร้าน : ร้านอยู่ในโครงการ Tree square ทาวน์ อิน ทาวน์ 📌📌https://goo.gl/maps/DXTAh5Z4jds'"
     },
     "execution_count": 162,
     "metadata": {},
     "output_type": "execute_result"
    }
   ],
   "source": [
    "TextCleansing.redundant_space(my_text)"
   ]
  },
  {
   "cell_type": "markdown",
   "metadata": {},
   "source": [
    "# Usage"
   ]
  },
  {
   "cell_type": "code",
   "execution_count": null,
   "metadata": {},
   "outputs": [],
   "source": [
    "# !pip install yellowduck -q\r\n",
    "\r\n",
    "!pip install --upgrade --force-reinstall yellowduck"
   ]
  },
  {
   "cell_type": "code",
   "execution_count": null,
   "metadata": {},
   "outputs": [],
   "source": [
    "import yellowduck"
   ]
  },
  {
   "cell_type": "code",
   "execution_count": null,
   "metadata": {},
   "outputs": [],
   "source": [
    "yellowduck.preprocessing.text.TextCleansing.http_https(text)\r\n"
   ]
  },
  {
   "cell_type": "code",
   "execution_count": null,
   "metadata": {},
   "outputs": [],
   "source": [
    "yellowduck.preprocessing.text.TextCleansing.new_line(text)\r\n"
   ]
  },
  {
   "cell_type": "code",
   "execution_count": null,
   "metadata": {},
   "outputs": [],
   "source": [
    "yellowduck.preprocessing.text.TextCleansing.tab_space(text)\r\n"
   ]
  },
  {
   "cell_type": "code",
   "execution_count": null,
   "metadata": {},
   "outputs": [],
   "source": [
    "yellowduck.preprocessing.text.TextCleansing.hashtag(text)\r\n"
   ]
  },
  {
   "cell_type": "code",
   "execution_count": null,
   "metadata": {},
   "outputs": [],
   "source": [
    "yellowduck.preprocessing.text.TextCleansing.punctuation(text)\r\n"
   ]
  },
  {
   "cell_type": "code",
   "execution_count": null,
   "metadata": {},
   "outputs": [],
   "source": [
    "yellowduck.preprocessing.text.TextCleansing.emoji(text)\r\n"
   ]
  },
  {
   "cell_type": "code",
   "execution_count": null,
   "metadata": {},
   "outputs": [],
   "source": [
    "yellowduck.preprocessing.text.TextCleansing.redundant_space(text)"
   ]
  }
 ],
 "metadata": {
  "kernelspec": {
   "display_name": "Python 3.8.5 64-bit ('base': conda)",
   "name": "python385jvsc74a57bd0da49c21476726fa775a64ec0361702411f3a2972dcf1da4aea634512a0edea27"
  },
  "language_info": {
   "name": "python",
   "version": ""
  },
  "orig_nbformat": 2
 },
 "nbformat": 4,
 "nbformat_minor": 2
}