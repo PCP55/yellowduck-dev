{
 "cells": [
  {
   "cell_type": "code",
   "execution_count": 2,
   "metadata": {},
   "outputs": [],
   "source": [
    "from yellowduck.text.grouping import TextGrouping"
   ]
  },
  {
   "cell_type": "code",
   "execution_count": 9,
   "metadata": {},
   "outputs": [
    {
     "name": "stdout",
     "output_type": "stream",
     "text": [
      "There are 9 text groups having similar characters and 0 individuals text.\n"
     ]
    },
    {
     "data": {
      "text/plain": [
       "{0: array(['กระเทย', 'กะเทย'], dtype='<U12'),\n",
       " 1: array(['อินเตอร์เน็ต', 'อินเทอร์เน็ต'], dtype='<U12'),\n",
       " 2: array(['กระเพรา', 'กะเพรา'], dtype='<U12'),\n",
       " 3: array(['กระทันหัน', 'กะทันหัน'], dtype='<U12'),\n",
       " 4: array(['แกงกระหรี่', 'แกงกะหรี่'], dtype='<U12'),\n",
       " 5: array(['ปะแป้ง', 'ประแป้ง'], dtype='<U12'),\n",
       " 6: array(['ปลากระพง', 'ปลากะพง'], dtype='<U12'),\n",
       " 7: array(['ไอศครีม', 'ไอศกรีม'], dtype='<U12'),\n",
       " 8: array(['ริดรอน', 'ลิดรอน'], dtype='<U12'),\n",
       " 9: array(['บุคคลากร', 'บุคลากร'], dtype='<U12')}"
      ]
     },
     "execution_count": 9,
     "metadata": {},
     "output_type": "execute_result"
    }
   ],
   "source": [
    "text_data = ['กระเทย','กะเทย','อินเตอร์เน็ต','อินเทอร์เน็ต',\n",
    "            'กระเพรา','กะเพรา','กระทันหัน','กะทันหัน',\n",
    "            'แกงกระหรี่','แกงกะหรี่','ปะแป้ง','ประแป้ง',\n",
    "            'ปลากระพง','ปลากะพง','ไอศครีม','ไอศกรีม',\n",
    "            'ริดรอน','ลิดรอน','บุคคลากร','บุคลากร']\n",
    "\n",
    "TextGrouping(text_data, distance = 2, minimum_members = 2).get_group()"
   ]
  },
  {
   "cell_type": "code",
   "execution_count": 8,
   "metadata": {},
   "outputs": [
    {
     "name": "stdout",
     "output_type": "stream",
     "text": [
      "There are 8 text groups having similar characters and 0 individuals text.\n"
     ]
    },
    {
     "data": {
      "text/plain": [
       "{0: array(['กระเทย', 'กะเทย', 'กระเพรา', 'กะเพรา'], dtype='<U12'),\n",
       " 1: array(['อินเตอร์เน็ต', 'อินเทอร์เน็ต'], dtype='<U12'),\n",
       " 2: array(['กระทันหัน', 'กะทันหัน'], dtype='<U12'),\n",
       " 3: array(['แกงกระหรี่', 'แกงกะหรี่'], dtype='<U12'),\n",
       " 4: array(['ปะแป้ง', 'ประแป้ง'], dtype='<U12'),\n",
       " 5: array(['ปลากระพง', 'ปลากะพง'], dtype='<U12'),\n",
       " 6: array(['ไอศครีม', 'ไอศกรีม'], dtype='<U12'),\n",
       " 7: array(['ริดรอน', 'ลิดรอน'], dtype='<U12'),\n",
       " 8: array(['บุคคลากร', 'บุคลากร'], dtype='<U12')}"
      ]
     },
     "execution_count": 8,
     "metadata": {},
     "output_type": "execute_result"
    }
   ],
   "source": [
    "text_data = ['กระเทย','กะเทย','อินเตอร์เน็ต','อินเทอร์เน็ต',\n",
    "            'กระเพรา','กะเพรา','กระทันหัน','กะทันหัน',\n",
    "            'แกงกระหรี่','แกงกะหรี่','ปะแป้ง','ประแป้ง',\n",
    "            'ปลากระพง','ปลากะพง','ไอศครีม','ไอศกรีม',\n",
    "            'ริดรอน','ลิดรอน','บุคคลากร','บุคลากร']\n",
    "\n",
    "TextGrouping(text_data, distance = 4, minimum_members = 2).get_group()"
   ]
  },
  {
   "cell_type": "code",
   "execution_count": 6,
   "metadata": {},
   "outputs": [
    {
     "name": "stdout",
     "output_type": "stream",
     "text": [
      "There are 8 text groups having similar characters and 2 individuals text.\n"
     ]
    },
    {
     "data": {
      "text/plain": [
       "{0: array(['เลือดกลบปาก', 'เลือดกบปาก'], dtype='<U18'),\n",
       " 1: array(['ผีซ้ำด้ามพลอย', 'ผีซ้ำด้ำพลอย'], dtype='<U18'),\n",
       " 2: array(['พิธีรีตรอง', 'พิธีรีตอง'], dtype='<U18'),\n",
       " 3: array(['ต่าง ๆ นา ๆ', 'ต่าง ๆ นานา'], dtype='<U18'),\n",
       " 4: array(['นานาพันธุ์', 'นานาพรรณ', 'แปรพรรค', 'แปรพักตร์'], dtype='<U18'),\n",
       " 5: array(['ผลัดวันประกันพรุ่ง', 'ผัดวันประกันพรุ่ง'], dtype='<U18'),\n",
       " 6: array(['แก้ผ้าเอาหน้ารอด', 'ขายผ้าเอาหน้ารอด'], dtype='<U18'),\n",
       " 7: array(['ลูกเด็กเล็กแดง', 'ลูกเล็กเด็กแดง'], dtype='<U18'),\n",
       " -1: array(['กงกรรมกงเกวียน', 'กงเกวียนกำเกวียน'], dtype='<U18')}"
      ]
     },
     "execution_count": 6,
     "metadata": {},
     "output_type": "execute_result"
    }
   ],
   "source": [
    "text_data = ['กงกรรมกงเกวียน','กงเกวียนกำเกวียน',\n",
    "            'เลือดกลบปาก','เลือดกบปาก',\n",
    "            'ผีซ้ำด้ามพลอย','ผีซ้ำด้ำพลอย',\n",
    "            'พิธีรีตรอง','พิธีรีตอง',\n",
    "            'ต่าง ๆ นา ๆ','ต่าง ๆ นานา',\n",
    "            'นานาพันธุ์','นานาพรรณ',\n",
    "            'ผลัดวันประกันพรุ่ง','ผัดวันประกันพรุ่ง',\n",
    "            'แก้ผ้าเอาหน้ารอด','ขายผ้าเอาหน้ารอด',\n",
    "            'แปรพรรค','แปรพักตร์',\n",
    "            'ลูกเด็กเล็กแดง','ลูกเล็กเด็กแดง',]\n",
    "\n",
    "TextGrouping(text_data, distance = 5, minimum_members = 2).get_group()"
   ]
  },
  {
   "cell_type": "code",
   "execution_count": null,
   "metadata": {},
   "outputs": [],
   "source": []
  }
 ],
 "metadata": {
  "kernelspec": {
   "display_name": "my_env",
   "language": "python",
   "name": "python3"
  },
  "language_info": {
   "codemirror_mode": {
    "name": "ipython",
    "version": 3
   },
   "file_extension": ".py",
   "mimetype": "text/x-python",
   "name": "python",
   "nbconvert_exporter": "python",
   "pygments_lexer": "ipython3",
   "version": "3.8.2"
  },
  "orig_nbformat": 4
 },
 "nbformat": 4,
 "nbformat_minor": 2
}
